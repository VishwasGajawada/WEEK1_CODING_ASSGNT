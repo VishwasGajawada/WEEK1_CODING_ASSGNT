{
 "cells": [
  {
   "cell_type": "code",
   "execution_count": 175,
   "metadata": {
    "colab": {},
    "colab_type": "code",
    "id": "F-6bE0dYcBgA"
   },
   "outputs": [],
   "source": [
    "## Import stuff\n",
    " \n",
    "import numpy as np\n",
    "from sklearn import datasets, linear_model, metrics\n",
    "import matplotlib.pyplot as plt"
   ]
  },
  {
   "cell_type": "code",
   "execution_count": 176,
   "metadata": {
    "colab": {},
    "colab_type": "code",
    "id": "gK71NIhMcEs5",
    "scrolled": false
   },
   "outputs": [],
   "source": [
    "## Load the diabetes dataset\n",
    "diabetes = datasets.load_diabetes()\n",
    "diabetes_X = diabetes.data # matrix of dimensions 442x10\n",
    " \n",
    "# Split the data into training/testing sets\n",
    "diabetes_X_train = diabetes_X[:-20]\n",
    "diabetes_X_test = diabetes_X[-20:]\n",
    " \n",
    "# Split the targets into training/testing sets\n",
    "diabetes_y_train = diabetes.target[:-20]\n",
    "diabetes_y_test = diabetes.target[-20:]\n",
    "\n",
    "\n",
    "\n"
   ]
  },
  {
   "cell_type": "code",
   "execution_count": 177,
   "metadata": {
    "colab": {
     "base_uri": "https://localhost:8080/",
     "height": 229
    },
    "colab_type": "code",
    "id": "XJTg22ybcHsl",
    "outputId": "dbc4507c-281b-4e32-9f2d-3ba7d702ba5b"
   },
   "outputs": [
    {
     "name": "stdout",
     "output_type": "stream",
     "text": [
      "Epoch 0: 14571.937953\n",
      "Epoch 500: 2296.985427\n",
      "Epoch 1000: 1980.262446\n",
      "Epoch 1500: 1815.208387\n",
      "Epoch 2000: 1719.295237\n",
      "Epoch 2500: 1657.484974\n",
      "Epoch 3000: 1614.286167\n",
      "Epoch 3500: 1582.395930\n",
      "Epoch 4000: 1558.049642\n",
      "Epoch 4500: 1539.091619\n",
      "Epoch 5000: 1524.155537\n",
      "Epoch 5500: 1512.302071\n",
      "Epoch 6000: 1502.848290\n",
      "Epoch 6500: 1495.280053\n",
      "Epoch 7000: 1489.202193\n",
      "Epoch 7500: 1484.307241\n",
      "Epoch 8000: 1480.354156\n",
      "Epoch 8500: 1477.153036\n",
      "Epoch 9000: 1474.553728\n",
      "Epoch 9500: 1472.437167\n",
      "Epoch 10000: 1470.708710\n"
     ]
    }
   ],
   "source": [
    "# train\n",
    "X = diabetes_X_train\n",
    "y = diabetes_y_train\n",
    " \n",
    "# train: init\n",
    "W = np.zeros((X.shape[1],1))\n",
    "\n",
    "b = 0\n",
    "\n",
    "cost_train=[]\n",
    "itera_train=[]\n",
    "\n",
    "learning_rate = 0.1\n",
    "epochs = 10001\n",
    "\n",
    "n = X.shape[1]\n",
    "m = X.shape[0]\n",
    "one_column = np.ones((X.shape[0],1))\n",
    "X = np.concatenate((one_column, X), axis = 1)\n",
    " # initializing the parameter vector...\n",
    "theta = np.ones((n+1,1))\n",
    "y=y.reshape(m,1)\n",
    "\n",
    " \n",
    "# train: gradient descent\n",
    "for i in range(epochs):\n",
    "    # calculate predictions\n",
    "    pred = X.dot(theta)\n",
    "    \n",
    "\n",
    "    \n",
    "    # calculate error and cost (mean squared error)\n",
    "    \n",
    "    mean_squared_error = ((pred-y).transpose().dot(pred-y))/(2*m)\n",
    "    \n",
    "    cost_train.append(mean_squared_error[0,0])\n",
    "    itera_train.append(i)\n",
    "   \n",
    "\n",
    " \n",
    "    # calculate gradients\n",
    "    gradient = (1/m)*X.transpose().dot(pred-y)\n",
    " \n",
    "    # update parameters\n",
    "    theta=theta-learning_rate*gradient\n",
    "    \n",
    "\n",
    "    \n",
    "\n",
    " \n",
    "    # diagnostic output\n",
    "    if i % 500 == 0: print(\"Epoch %d: %f\" % (i, mean_squared_error))\n",
    "        \n"
   ]
  },
  {
   "cell_type": "code",
   "execution_count": 182,
   "metadata": {},
   "outputs": [
    {
     "data": {
      "text/plain": [
       "Text(0, 0.5, 'mean_squared error/(cost function)')"
      ]
     },
     "execution_count": 182,
     "metadata": {},
     "output_type": "execute_result"
    },
    {
     "data": {
      "image/png": "[encoded data removed]",
      "text/plain": [
       "<Figure size 432x288 with 1 Axes>"
      ]
     },
     "metadata": {
      "needs_background": "light"
     },
     "output_type": "display_data"
    }
   ],
   "source": [
    "plt.plot(itera_train,cost_train)\n",
    "plt.title('Train case')\n",
    "plt.xlabel('No. of iterations')\n",
    "plt.ylabel('mean_squared error/(cost function)')"
   ]
  },
  {
   "cell_type": "code",
   "execution_count": 173,
   "metadata": {
    "colab": {},
    "colab_type": "code",
    "id": "uvSdTn-0cKJL"
   },
   "outputs": [
    {
     "name": "stdout",
     "output_type": "stream",
     "text": [
      "Coefficients: \n",
      " [[-248.8061652 ]\n",
      " [-142.94989217]\n",
      " [ 545.14667992]\n",
      " [ 217.70931509]\n",
      " [  61.07750122]\n",
      " [ -90.6622631 ]\n",
      " [-180.55485205]\n",
      " [  26.58799439]\n",
      " [ 570.35386175]\n",
      " [  77.55675305]]\n",
      "Mean squared error: 757.94\n",
      "========================================================================================================================\n"
     ]
    }
   ],
   "source": [
    "# test\n",
    "X = diabetes_X_test\n",
    "y = diabetes_y_test\n",
    " \n",
    "n = X.shape[1]\n",
    "m = X.shape[0]\n",
    "one_column = np.ones((X.shape[0],1))\n",
    "X = np.concatenate((one_column, X), axis = 1)\n",
    " # initializing the parameter vector...\n",
    "theta = np.ones((n+1,1))\n",
    "y=y.reshape(m,1)\n",
    "\n",
    "cost=[]\n",
    "itera=[]\n",
    "\n",
    "\n",
    "# calculate predictions + calculate error and cost (same code as above)\n",
    "for i in range(epochs):\n",
    "    # calculate predictions\n",
    "    pred = X.dot(theta)\n",
    "    \n",
    "\n",
    "    \n",
    "    # calculate error and cost (mean squared error)\n",
    "    \n",
    "#     mean_squared_error = ((pred-y).transpose().dot(pred-y))/(2*m)\n",
    "    mean_squared_error = sum((pred-y)**2)/(2*m)\n",
    "    \n",
    "#     cost.append(mean_squared_error[0,0])\n",
    "    cost.append(mean_squared_error)\n",
    "    itera.append(i)\n",
    "\n",
    " \n",
    "    # calculate gradients\n",
    "    gradient = (1/m)*X.transpose().dot(pred-y)\n",
    " \n",
    "    # update parameters\n",
    "    theta=theta-learning_rate*gradient\n",
    "    \n",
    "\n",
    "W=theta[1:]\n",
    "b=theta[0]\n",
    "\n",
    "print('Coefficients: \\n', W)\n",
    "print(\"Mean squared error: %.2f\" % mean_squared_error)\n",
    "print(\"=\"*120)"
   ]
  },
  {
   "cell_type": "code",
   "execution_count": 181,
   "metadata": {},
   "outputs": [
    {
     "data": {
      "text/plain": [
       "Text(0, 0.5, 'mean_squared error/(cost function)')"
      ]
     },
     "execution_count": 181,
     "metadata": {},
     "output_type": "execute_result"
    },
    {
     "data": {
      "image/png": "[encoded data removed]",
      "text/plain": [
       "<Figure size 432x288 with 1 Axes>"
      ]
     },
     "metadata": {
      "needs_background": "light"
     },
     "output_type": "display_data"
    }
   ],
   "source": [
    "plt.plot(itera,cost)\n",
    "plt.title('Test case')\n",
    "plt.xlabel('No. of iterations')\n",
    "plt.ylabel('mean_squared error/(cost function)')"
   ]
  }
 ],
 "metadata": {
  "colab": {
   "name": "week1assignment.ipynb",
   "provenance": []
  },
  "kernelspec": {
   "display_name": "Python 3",
   "language": "python",
   "name": "python3"
  },
  "language_info": {
   "codemirror_mode": {
    "name": "ipython",
    "version": 3
   },
   "file_extension": ".py",
   "mimetype": "text/x-python",
   "name": "python",
   "nbconvert_exporter": "python",
   "pygments_lexer": "ipython3",
   "version": "3.7.6"
  }
 },
 "nbformat": 4,
 "nbformat_minor": 1
}
